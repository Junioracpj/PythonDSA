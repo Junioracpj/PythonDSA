{
 "cells": [
  {
   "cell_type": "markdown",
   "metadata": {},
   "source": [
    "# <font color='blue'>Data Science Academy - Python Fundamentos - Capítulo 7</font>\n",
    "\n",
    "## Download: http://github.com/dsacademybr"
   ]
  },
  {
   "cell_type": "markdown",
   "metadata": {},
   "source": [
    "## Missão: Analisar o Comportamento de Compra de Consumidores."
   ]
  },
  {
   "cell_type": "markdown",
   "metadata": {},
   "source": [
    "## Nível de Dificuldade: Alto"
   ]
  },
  {
   "cell_type": "markdown",
   "metadata": {},
   "source": [
    "Você recebeu a tarefa de analisar os dados de compras de um web site! Os dados estão no formato JSON e disponíveis junto com este notebook.\n",
    "\n",
    "No site, cada usuário efetua login usando sua conta pessoal e pode adquirir produtos à medida que navega pela lista de produtos oferecidos. Cada produto possui um valor de venda. Dados de idade e sexo de cada usuário foram coletados e estão fornecidos no arquivo JSON.\n",
    "\n",
    "Seu trabalho é entregar uma análise de comportamento de compra dos consumidores. Esse é um tipo de atividade comum realizado por Cientistas de Dados e o resultado deste trabalho pode ser usado, por exemplo, para alimentar um modelo de Machine Learning e fazer previsões sobre comportamentos futuros.\n",
    "\n",
    "Mas nesta missão você vai analisar o comportamento de compra dos consumidores usando o pacote Pandas da linguagem Python e seu relatório final deve incluir cada um dos seguintes itens:\n",
    "\n",
    "** Contagem de Consumidores **\n",
    "\n",
    "* Número total de consumidores\n",
    "\n",
    "\n",
    "** Análise Geral de Compras **\n",
    "\n",
    "* Número de itens exclusivos\n",
    "* Preço médio de compra\n",
    "* Número total de compras\n",
    "* Rendimento total\n",
    "\n",
    "\n",
    "** Informações Demográficas Por Gênero **\n",
    "\n",
    "* Porcentagem e contagem de compradores masculinos\n",
    "* Porcentagem e contagem de compradores do sexo feminino\n",
    "* Porcentagem e contagem de outros / não divulgados\n",
    "\n",
    "\n",
    "** Análise de Compras Por Gênero **\n",
    "\n",
    "* Número de compras\n",
    "* Preço médio de compra\n",
    "* Valor Total de Compra\n",
    "* Compras for faixa etária\n",
    "\n",
    "\n",
    "** Identifique os 5 principais compradores pelo valor total de compra e, em seguida, liste (em uma tabela): **\n",
    "\n",
    "* Login\n",
    "* Número de compras\n",
    "* Preço médio de compra\n",
    "* Valor Total de Compra\n",
    "* Itens mais populares\n",
    "\n",
    "\n",
    "** Identifique os 5 itens mais populares por contagem de compras e, em seguida, liste (em uma tabela): **\n",
    "\n",
    "* ID do item\n",
    "* Nome do item\n",
    "* Número de compras\n",
    "* Preço do item\n",
    "* Valor Total de Compra\n",
    "* Itens mais lucrativos\n",
    "\n",
    "\n",
    "** Identifique os 5 itens mais lucrativos pelo valor total de compra e, em seguida, liste (em uma tabela): **\n",
    "\n",
    "* ID do item\n",
    "* Nome do item\n",
    "* Número de compras\n",
    "* Preço do item\n",
    "* Valor Total de Compra\n",
    "\n",
    "\n",
    "** Como considerações finais: **\n",
    "\n",
    "* Seu script deve funcionar para o conjunto de dados fornecido.\n",
    "* Você deve usar a Biblioteca Pandas e o Jupyter Notebook.\n"
   ]
  },
  {
   "cell_type": "code",
   "execution_count": 1,
   "metadata": {},
   "outputs": [],
   "source": [
    "# Imports\n",
    "import pandas as pd\n",
    "import numpy as np"
   ]
  },
  {
   "cell_type": "code",
   "execution_count": 2,
   "metadata": {
    "scrolled": true
   },
   "outputs": [
    {
     "data": {
      "text/html": [
       "<div>\n",
       "<style scoped>\n",
       "    .dataframe tbody tr th:only-of-type {\n",
       "        vertical-align: middle;\n",
       "    }\n",
       "\n",
       "    .dataframe tbody tr th {\n",
       "        vertical-align: top;\n",
       "    }\n",
       "\n",
       "    .dataframe thead th {\n",
       "        text-align: right;\n",
       "    }\n",
       "</style>\n",
       "<table border=\"1\" class=\"dataframe\">\n",
       "  <thead>\n",
       "    <tr style=\"text-align: right;\">\n",
       "      <th></th>\n",
       "      <th>Login</th>\n",
       "      <th>Idade</th>\n",
       "      <th>Sexo</th>\n",
       "      <th>Item ID</th>\n",
       "      <th>Nome do Item</th>\n",
       "      <th>Valor</th>\n",
       "    </tr>\n",
       "  </thead>\n",
       "  <tbody>\n",
       "    <tr>\n",
       "      <th>0</th>\n",
       "      <td>Aelalis34</td>\n",
       "      <td>38</td>\n",
       "      <td>Masculino</td>\n",
       "      <td>165</td>\n",
       "      <td>Bone Crushing Silver Skewer</td>\n",
       "      <td>3.37</td>\n",
       "    </tr>\n",
       "    <tr>\n",
       "      <th>1</th>\n",
       "      <td>Eolo46</td>\n",
       "      <td>21</td>\n",
       "      <td>Masculino</td>\n",
       "      <td>119</td>\n",
       "      <td>Stormbringer, Dark Blade of Ending Misery</td>\n",
       "      <td>2.32</td>\n",
       "    </tr>\n",
       "    <tr>\n",
       "      <th>2</th>\n",
       "      <td>Assastnya25</td>\n",
       "      <td>34</td>\n",
       "      <td>Masculino</td>\n",
       "      <td>174</td>\n",
       "      <td>Primitive Blade</td>\n",
       "      <td>2.46</td>\n",
       "    </tr>\n",
       "    <tr>\n",
       "      <th>3</th>\n",
       "      <td>Pheusrical25</td>\n",
       "      <td>21</td>\n",
       "      <td>Masculino</td>\n",
       "      <td>92</td>\n",
       "      <td>Final Critic</td>\n",
       "      <td>1.36</td>\n",
       "    </tr>\n",
       "    <tr>\n",
       "      <th>4</th>\n",
       "      <td>Aela59</td>\n",
       "      <td>23</td>\n",
       "      <td>Masculino</td>\n",
       "      <td>63</td>\n",
       "      <td>Stormfury Mace</td>\n",
       "      <td>1.27</td>\n",
       "    </tr>\n",
       "    <tr>\n",
       "      <th>5</th>\n",
       "      <td>Tanimnya91</td>\n",
       "      <td>20</td>\n",
       "      <td>Masculino</td>\n",
       "      <td>10</td>\n",
       "      <td>Sleepwalker</td>\n",
       "      <td>1.73</td>\n",
       "    </tr>\n",
       "    <tr>\n",
       "      <th>6</th>\n",
       "      <td>Undjaskla97</td>\n",
       "      <td>20</td>\n",
       "      <td>Masculino</td>\n",
       "      <td>153</td>\n",
       "      <td>Mercenary Sabre</td>\n",
       "      <td>4.57</td>\n",
       "    </tr>\n",
       "    <tr>\n",
       "      <th>7</th>\n",
       "      <td>Iathenudil29</td>\n",
       "      <td>29</td>\n",
       "      <td>Feminino</td>\n",
       "      <td>169</td>\n",
       "      <td>Interrogator, Blood Blade of the Queen</td>\n",
       "      <td>3.32</td>\n",
       "    </tr>\n",
       "    <tr>\n",
       "      <th>8</th>\n",
       "      <td>Sondenasta63</td>\n",
       "      <td>25</td>\n",
       "      <td>Masculino</td>\n",
       "      <td>118</td>\n",
       "      <td>Ghost Reaver, Longsword of Magic</td>\n",
       "      <td>2.77</td>\n",
       "    </tr>\n",
       "    <tr>\n",
       "      <th>9</th>\n",
       "      <td>Hilaerin92</td>\n",
       "      <td>31</td>\n",
       "      <td>Masculino</td>\n",
       "      <td>99</td>\n",
       "      <td>Expiration, Warscythe Of Lost Worlds</td>\n",
       "      <td>4.53</td>\n",
       "    </tr>\n",
       "    <tr>\n",
       "      <th>10</th>\n",
       "      <td>Chamosia29</td>\n",
       "      <td>24</td>\n",
       "      <td>Masculino</td>\n",
       "      <td>57</td>\n",
       "      <td>Despair, Favor of Due Diligence</td>\n",
       "      <td>3.81</td>\n",
       "    </tr>\n",
       "    <tr>\n",
       "      <th>11</th>\n",
       "      <td>Sally64</td>\n",
       "      <td>20</td>\n",
       "      <td>Masculino</td>\n",
       "      <td>47</td>\n",
       "      <td>Alpha, Reach of Ending Hope</td>\n",
       "      <td>1.55</td>\n",
       "    </tr>\n",
       "    <tr>\n",
       "      <th>12</th>\n",
       "      <td>Iskossa88</td>\n",
       "      <td>30</td>\n",
       "      <td>Masculino</td>\n",
       "      <td>81</td>\n",
       "      <td>Dreamkiss</td>\n",
       "      <td>4.06</td>\n",
       "    </tr>\n",
       "    <tr>\n",
       "      <th>13</th>\n",
       "      <td>Seorithstilis90</td>\n",
       "      <td>23</td>\n",
       "      <td>Masculino</td>\n",
       "      <td>76</td>\n",
       "      <td>Piety, Guardian of Riddles</td>\n",
       "      <td>3.68</td>\n",
       "    </tr>\n",
       "    <tr>\n",
       "      <th>14</th>\n",
       "      <td>Sundast29</td>\n",
       "      <td>40</td>\n",
       "      <td>Masculino</td>\n",
       "      <td>44</td>\n",
       "      <td>Bonecarvin Battle Axe</td>\n",
       "      <td>2.46</td>\n",
       "    </tr>\n",
       "  </tbody>\n",
       "</table>\n",
       "</div>"
      ],
      "text/plain": [
       "              Login  Idade       Sexo  Item ID  \\\n",
       "0         Aelalis34     38  Masculino      165   \n",
       "1            Eolo46     21  Masculino      119   \n",
       "2       Assastnya25     34  Masculino      174   \n",
       "3      Pheusrical25     21  Masculino       92   \n",
       "4            Aela59     23  Masculino       63   \n",
       "5        Tanimnya91     20  Masculino       10   \n",
       "6       Undjaskla97     20  Masculino      153   \n",
       "7      Iathenudil29     29   Feminino      169   \n",
       "8      Sondenasta63     25  Masculino      118   \n",
       "9        Hilaerin92     31  Masculino       99   \n",
       "10       Chamosia29     24  Masculino       57   \n",
       "11          Sally64     20  Masculino       47   \n",
       "12        Iskossa88     30  Masculino       81   \n",
       "13  Seorithstilis90     23  Masculino       76   \n",
       "14        Sundast29     40  Masculino       44   \n",
       "\n",
       "                                 Nome do Item  Valor  \n",
       "0                 Bone Crushing Silver Skewer   3.37  \n",
       "1   Stormbringer, Dark Blade of Ending Misery   2.32  \n",
       "2                             Primitive Blade   2.46  \n",
       "3                                Final Critic   1.36  \n",
       "4                              Stormfury Mace   1.27  \n",
       "5                                 Sleepwalker   1.73  \n",
       "6                             Mercenary Sabre   4.57  \n",
       "7      Interrogator, Blood Blade of the Queen   3.32  \n",
       "8            Ghost Reaver, Longsword of Magic   2.77  \n",
       "9        Expiration, Warscythe Of Lost Worlds   4.53  \n",
       "10            Despair, Favor of Due Diligence   3.81  \n",
       "11                Alpha, Reach of Ending Hope   1.55  \n",
       "12                                  Dreamkiss   4.06  \n",
       "13                 Piety, Guardian of Riddles   3.68  \n",
       "14                      Bonecarvin Battle Axe   2.46  "
      ]
     },
     "execution_count": 2,
     "metadata": {},
     "output_type": "execute_result"
    }
   ],
   "source": [
    "# Carrega o arquivo\n",
    "load_file = \"dados_compras.json\"\n",
    "data = pd.read_json(load_file, orient = \"records\")\n",
    "data.head(15)\n"
   ]
  },
  {
   "cell_type": "code",
   "execution_count": 3,
   "metadata": {},
   "outputs": [
    {
     "data": {
      "text/html": [
       "<div>\n",
       "<style scoped>\n",
       "    .dataframe tbody tr th:only-of-type {\n",
       "        vertical-align: middle;\n",
       "    }\n",
       "\n",
       "    .dataframe tbody tr th {\n",
       "        vertical-align: top;\n",
       "    }\n",
       "\n",
       "    .dataframe thead th {\n",
       "        text-align: right;\n",
       "    }\n",
       "</style>\n",
       "<table border=\"1\" class=\"dataframe\">\n",
       "  <thead>\n",
       "    <tr style=\"text-align: right;\">\n",
       "      <th></th>\n",
       "      <th>Login</th>\n",
       "      <th>Idade</th>\n",
       "      <th>Sexo</th>\n",
       "      <th>Item ID</th>\n",
       "      <th>Nome do Item</th>\n",
       "      <th>Valor</th>\n",
       "    </tr>\n",
       "  </thead>\n",
       "  <tbody>\n",
       "    <tr>\n",
       "      <th>0</th>\n",
       "      <td>Aelalis34</td>\n",
       "      <td>38</td>\n",
       "      <td>Masculino</td>\n",
       "      <td>165</td>\n",
       "      <td>Bone Crushing Silver Skewer</td>\n",
       "      <td>3.37</td>\n",
       "    </tr>\n",
       "    <tr>\n",
       "      <th>1</th>\n",
       "      <td>Eolo46</td>\n",
       "      <td>21</td>\n",
       "      <td>Masculino</td>\n",
       "      <td>119</td>\n",
       "      <td>Stormbringer, Dark Blade of Ending Misery</td>\n",
       "      <td>2.32</td>\n",
       "    </tr>\n",
       "    <tr>\n",
       "      <th>2</th>\n",
       "      <td>Assastnya25</td>\n",
       "      <td>34</td>\n",
       "      <td>Masculino</td>\n",
       "      <td>174</td>\n",
       "      <td>Primitive Blade</td>\n",
       "      <td>2.46</td>\n",
       "    </tr>\n",
       "    <tr>\n",
       "      <th>3</th>\n",
       "      <td>Pheusrical25</td>\n",
       "      <td>21</td>\n",
       "      <td>Masculino</td>\n",
       "      <td>92</td>\n",
       "      <td>Final Critic</td>\n",
       "      <td>1.36</td>\n",
       "    </tr>\n",
       "    <tr>\n",
       "      <th>4</th>\n",
       "      <td>Aela59</td>\n",
       "      <td>23</td>\n",
       "      <td>Masculino</td>\n",
       "      <td>63</td>\n",
       "      <td>Stormfury Mace</td>\n",
       "      <td>1.27</td>\n",
       "    </tr>\n",
       "    <tr>\n",
       "      <th>...</th>\n",
       "      <td>...</td>\n",
       "      <td>...</td>\n",
       "      <td>...</td>\n",
       "      <td>...</td>\n",
       "      <td>...</td>\n",
       "      <td>...</td>\n",
       "    </tr>\n",
       "    <tr>\n",
       "      <th>775</th>\n",
       "      <td>Eural50</td>\n",
       "      <td>22</td>\n",
       "      <td>Masculino</td>\n",
       "      <td>98</td>\n",
       "      <td>Deadline, Voice Of Subtlety</td>\n",
       "      <td>3.62</td>\n",
       "    </tr>\n",
       "    <tr>\n",
       "      <th>776</th>\n",
       "      <td>Lirtossa78</td>\n",
       "      <td>14</td>\n",
       "      <td>Masculino</td>\n",
       "      <td>104</td>\n",
       "      <td>Gladiator's Glaive</td>\n",
       "      <td>1.36</td>\n",
       "    </tr>\n",
       "    <tr>\n",
       "      <th>777</th>\n",
       "      <td>Tillyrin30</td>\n",
       "      <td>20</td>\n",
       "      <td>Masculino</td>\n",
       "      <td>117</td>\n",
       "      <td>Heartstriker, Legacy of the Light</td>\n",
       "      <td>4.15</td>\n",
       "    </tr>\n",
       "    <tr>\n",
       "      <th>778</th>\n",
       "      <td>Quelaton80</td>\n",
       "      <td>20</td>\n",
       "      <td>Masculino</td>\n",
       "      <td>75</td>\n",
       "      <td>Brutality Ivory Warmace</td>\n",
       "      <td>1.72</td>\n",
       "    </tr>\n",
       "    <tr>\n",
       "      <th>779</th>\n",
       "      <td>Alim85</td>\n",
       "      <td>23</td>\n",
       "      <td>Feminino</td>\n",
       "      <td>107</td>\n",
       "      <td>Splitter, Foe Of Subtlety</td>\n",
       "      <td>3.61</td>\n",
       "    </tr>\n",
       "  </tbody>\n",
       "</table>\n",
       "<p>780 rows × 6 columns</p>\n",
       "</div>"
      ],
      "text/plain": [
       "            Login  Idade       Sexo  Item ID  \\\n",
       "0       Aelalis34     38  Masculino      165   \n",
       "1          Eolo46     21  Masculino      119   \n",
       "2     Assastnya25     34  Masculino      174   \n",
       "3    Pheusrical25     21  Masculino       92   \n",
       "4          Aela59     23  Masculino       63   \n",
       "..            ...    ...        ...      ...   \n",
       "775       Eural50     22  Masculino       98   \n",
       "776    Lirtossa78     14  Masculino      104   \n",
       "777    Tillyrin30     20  Masculino      117   \n",
       "778    Quelaton80     20  Masculino       75   \n",
       "779        Alim85     23   Feminino      107   \n",
       "\n",
       "                                  Nome do Item  Valor  \n",
       "0                  Bone Crushing Silver Skewer   3.37  \n",
       "1    Stormbringer, Dark Blade of Ending Misery   2.32  \n",
       "2                              Primitive Blade   2.46  \n",
       "3                                 Final Critic   1.36  \n",
       "4                               Stormfury Mace   1.27  \n",
       "..                                         ...    ...  \n",
       "775                Deadline, Voice Of Subtlety   3.62  \n",
       "776                         Gladiator's Glaive   1.36  \n",
       "777          Heartstriker, Legacy of the Light   4.15  \n",
       "778                    Brutality Ivory Warmace   1.72  \n",
       "779                  Splitter, Foe Of Subtlety   3.61  \n",
       "\n",
       "[780 rows x 6 columns]"
      ]
     },
     "metadata": {},
     "output_type": "display_data"
    }
   ],
   "source": [
    "display(data)"
   ]
  },
  {
   "cell_type": "markdown",
   "metadata": {},
   "source": [
    "## Informações Sobre os Consumidores"
   ]
  },
  {
   "cell_type": "code",
   "execution_count": 4,
   "metadata": {
    "scrolled": true
   },
   "outputs": [
    {
     "data": {
      "text/plain": [
       "(573, 5)"
      ]
     },
     "execution_count": 4,
     "metadata": {},
     "output_type": "execute_result"
    }
   ],
   "source": [
    "# Número total de consumidores\n",
    "data.groupby(['Login'], dropna=True).count().shape\n"
   ]
  },
  {
   "cell_type": "markdown",
   "metadata": {},
   "source": [
    "A tabela informa que existem 573 consumidores cadastrados"
   ]
  },
  {
   "cell_type": "markdown",
   "metadata": {},
   "source": [
    "## Análise Geral de Compras"
   ]
  },
  {
   "cell_type": "code",
   "execution_count": 5,
   "metadata": {
    "scrolled": true
   },
   "outputs": [
    {
     "data": {
      "text/plain": [
       "(183, 5)"
      ]
     },
     "execution_count": 5,
     "metadata": {},
     "output_type": "execute_result"
    }
   ],
   "source": [
    "# Número de itens exclusivos\n",
    "data.groupby('Item ID').count().shape"
   ]
  },
  {
   "cell_type": "markdown",
   "metadata": {},
   "source": [
    "A tabela informa que existem 183 itens cadastexclusivos"
   ]
  },
  {
   "cell_type": "code",
   "execution_count": 6,
   "metadata": {},
   "outputs": [
    {
     "name": "stdout",
     "output_type": "stream",
     "text": [
      "Valor : 2.931192307692303\n"
     ]
    }
   ],
   "source": [
    "# Preço médio de compra\n",
    "print(\"Valor :\", data['Valor'].mean())\n"
   ]
  },
  {
   "cell_type": "code",
   "execution_count": 7,
   "metadata": {
    "scrolled": true
   },
   "outputs": [
    {
     "name": "stdout",
     "output_type": "stream",
     "text": [
      "Quantidade total de compras 780\n"
     ]
    }
   ],
   "source": [
    "# Número total de compras\n",
    "print(\"Quantidade total de compras\",data[data.columns[0]].count())"
   ]
  },
  {
   "cell_type": "code",
   "execution_count": 8,
   "metadata": {},
   "outputs": [
    {
     "name": "stdout",
     "output_type": "stream",
     "text": [
      "Rendimento total 2286.33\n"
     ]
    }
   ],
   "source": [
    "# Rendimento total\n",
    "print(\"Rendimento total\", data['Valor'].sum())"
   ]
  },
  {
   "cell_type": "markdown",
   "metadata": {},
   "source": [
    "## Informações Demográficas Por Gênero"
   ]
  },
  {
   "cell_type": "code",
   "execution_count": 149,
   "metadata": {
    "scrolled": true
   },
   "outputs": [],
   "source": [
    "# Porcentagem e contagem de compradores masculinos\n",
    "# Porcentagem e contagem de compradores do sexo feminino\n",
    "# Porcentagem e contagem de outros / não divulgados\n",
    "valores = data.groupby('Sexo').sum()\n",
    "valores['Percent'] = (valores['Valor'] * 100) / valores['Valor'].sum()\n",
    "valores['Percent'] = valores['Percent'].map(\"%{:,.2f}\".format)\n"
   ]
  },
  {
   "cell_type": "code",
   "execution_count": 150,
   "metadata": {},
   "outputs": [
    {
     "data": {
      "text/html": [
       "<div>\n",
       "<style scoped>\n",
       "    .dataframe tbody tr th:only-of-type {\n",
       "        vertical-align: middle;\n",
       "    }\n",
       "\n",
       "    .dataframe tbody tr th {\n",
       "        vertical-align: top;\n",
       "    }\n",
       "\n",
       "    .dataframe thead th {\n",
       "        text-align: right;\n",
       "    }\n",
       "</style>\n",
       "<table border=\"1\" class=\"dataframe\">\n",
       "  <thead>\n",
       "    <tr style=\"text-align: right;\">\n",
       "      <th></th>\n",
       "      <th>Idade</th>\n",
       "      <th>Item ID</th>\n",
       "      <th>Valor</th>\n",
       "      <th>Percent</th>\n",
       "    </tr>\n",
       "    <tr>\n",
       "      <th>Sexo</th>\n",
       "      <th></th>\n",
       "      <th></th>\n",
       "      <th></th>\n",
       "      <th></th>\n",
       "    </tr>\n",
       "  </thead>\n",
       "  <tbody>\n",
       "    <tr>\n",
       "      <th>Feminino</th>\n",
       "      <td>3068</td>\n",
       "      <td>11983</td>\n",
       "      <td>382.91</td>\n",
       "      <td>%16.75</td>\n",
       "    </tr>\n",
       "    <tr>\n",
       "      <th>Masculino</th>\n",
       "      <td>14360</td>\n",
       "      <td>57964</td>\n",
       "      <td>1867.68</td>\n",
       "      <td>%81.69</td>\n",
       "    </tr>\n",
       "    <tr>\n",
       "      <th>Outro / Não Divulgado</th>\n",
       "      <td>301</td>\n",
       "      <td>1261</td>\n",
       "      <td>35.74</td>\n",
       "      <td>%1.56</td>\n",
       "    </tr>\n",
       "  </tbody>\n",
       "</table>\n",
       "</div>"
      ],
      "text/plain": [
       "                       Idade  Item ID    Valor Percent\n",
       "Sexo                                                  \n",
       "Feminino                3068    11983   382.91  %16.75\n",
       "Masculino              14360    57964  1867.68  %81.69\n",
       "Outro / Não Divulgado    301     1261    35.74   %1.56"
      ]
     },
     "metadata": {},
     "output_type": "display_data"
    }
   ],
   "source": [
    "display(valores)"
   ]
  },
  {
   "cell_type": "markdown",
   "metadata": {},
   "source": [
    "Criada uma coluna com o nome \"Percent\" indicando as porcentagens de cada genero"
   ]
  },
  {
   "cell_type": "markdown",
   "metadata": {},
   "source": [
    "## Análise de Compras Por Gênero"
   ]
  },
  {
   "cell_type": "code",
   "execution_count": 73,
   "metadata": {},
   "outputs": [
    {
     "name": "stdout",
     "output_type": "stream",
     "text": [
      "Tabela com o total de compras por genero \n",
      " \n",
      " Sexo\n",
      "Feminino                 136\n",
      "Masculino                633\n",
      "Outro / Não Divulgado     11\n",
      "Name: Sexo, dtype: int64\n"
     ]
    }
   ],
   "source": [
    "# Número de compras\n",
    "# Preço médio de compra\n",
    "\n",
    "valores = data.groupby('Sexo')['Sexo'].count()\n",
    "print('Tabela com o total de compras por genero \\n \\n',valores)"
   ]
  },
  {
   "cell_type": "code",
   "execution_count": 76,
   "metadata": {
    "scrolled": true
   },
   "outputs": [
    {
     "name": "stdout",
     "output_type": "stream",
     "text": [
      "Tabela com o valor total gasto por genero \n",
      " \n",
      " Sexo\n",
      "Feminino                  382.91\n",
      "Masculino                1867.68\n",
      "Outro / Não Divulgado      35.74\n",
      "Name: Valor, dtype: float64\n"
     ]
    }
   ],
   "source": [
    "# Valor Total de Compra\n",
    "\n",
    "valores = data.groupby('Sexo')['Valor'].sum()\n",
    "print('Tabela com o valor total gasto por genero \\n \\n', valores)"
   ]
  },
  {
   "cell_type": "code",
   "execution_count": 78,
   "metadata": {},
   "outputs": [],
   "source": [
    "# Compras for faixa etária\n",
    "# Criando uma coluna indicando a faixa etaria \n",
    "faixa = [0, 17, 29, 40, 65, 120]\n",
    "labels = ['Menor de Idade', 'Jovem', 'Adulto', 'idoso', 'Melhor Idade']\n",
    "faixa = pd.cut(x=data.Idade, bins=faixa, labels=labels)"
   ]
  },
  {
   "cell_type": "code",
   "execution_count": 79,
   "metadata": {},
   "outputs": [
    {
     "data": {
      "text/html": [
       "<div>\n",
       "<style scoped>\n",
       "    .dataframe tbody tr th:only-of-type {\n",
       "        vertical-align: middle;\n",
       "    }\n",
       "\n",
       "    .dataframe tbody tr th {\n",
       "        vertical-align: top;\n",
       "    }\n",
       "\n",
       "    .dataframe thead th {\n",
       "        text-align: right;\n",
       "    }\n",
       "</style>\n",
       "<table border=\"1\" class=\"dataframe\">\n",
       "  <thead>\n",
       "    <tr style=\"text-align: right;\">\n",
       "      <th></th>\n",
       "      <th>Login</th>\n",
       "      <th>Idade</th>\n",
       "      <th>Sexo</th>\n",
       "      <th>Item ID</th>\n",
       "      <th>Nome do Item</th>\n",
       "      <th>Valor</th>\n",
       "      <th>Faixa Etaria</th>\n",
       "    </tr>\n",
       "  </thead>\n",
       "  <tbody>\n",
       "    <tr>\n",
       "      <th>0</th>\n",
       "      <td>Aelalis34</td>\n",
       "      <td>38</td>\n",
       "      <td>Masculino</td>\n",
       "      <td>165</td>\n",
       "      <td>Bone Crushing Silver Skewer</td>\n",
       "      <td>3.37</td>\n",
       "      <td>Adulto</td>\n",
       "    </tr>\n",
       "    <tr>\n",
       "      <th>1</th>\n",
       "      <td>Eolo46</td>\n",
       "      <td>21</td>\n",
       "      <td>Masculino</td>\n",
       "      <td>119</td>\n",
       "      <td>Stormbringer, Dark Blade of Ending Misery</td>\n",
       "      <td>2.32</td>\n",
       "      <td>Jovem</td>\n",
       "    </tr>\n",
       "    <tr>\n",
       "      <th>2</th>\n",
       "      <td>Assastnya25</td>\n",
       "      <td>34</td>\n",
       "      <td>Masculino</td>\n",
       "      <td>174</td>\n",
       "      <td>Primitive Blade</td>\n",
       "      <td>2.46</td>\n",
       "      <td>Adulto</td>\n",
       "    </tr>\n",
       "    <tr>\n",
       "      <th>3</th>\n",
       "      <td>Pheusrical25</td>\n",
       "      <td>21</td>\n",
       "      <td>Masculino</td>\n",
       "      <td>92</td>\n",
       "      <td>Final Critic</td>\n",
       "      <td>1.36</td>\n",
       "      <td>Jovem</td>\n",
       "    </tr>\n",
       "    <tr>\n",
       "      <th>4</th>\n",
       "      <td>Aela59</td>\n",
       "      <td>23</td>\n",
       "      <td>Masculino</td>\n",
       "      <td>63</td>\n",
       "      <td>Stormfury Mace</td>\n",
       "      <td>1.27</td>\n",
       "      <td>Jovem</td>\n",
       "    </tr>\n",
       "  </tbody>\n",
       "</table>\n",
       "</div>"
      ],
      "text/plain": [
       "          Login  Idade       Sexo  Item ID  \\\n",
       "0     Aelalis34     38  Masculino      165   \n",
       "1        Eolo46     21  Masculino      119   \n",
       "2   Assastnya25     34  Masculino      174   \n",
       "3  Pheusrical25     21  Masculino       92   \n",
       "4        Aela59     23  Masculino       63   \n",
       "\n",
       "                                Nome do Item  Valor Faixa Etaria  \n",
       "0                Bone Crushing Silver Skewer   3.37       Adulto  \n",
       "1  Stormbringer, Dark Blade of Ending Misery   2.32        Jovem  \n",
       "2                            Primitive Blade   2.46       Adulto  \n",
       "3                               Final Critic   1.36        Jovem  \n",
       "4                             Stormfury Mace   1.27        Jovem  "
      ]
     },
     "execution_count": 79,
     "metadata": {},
     "output_type": "execute_result"
    }
   ],
   "source": [
    "# Adcionando a coluna a tabela original\n",
    "data['Faixa Etaria'] = faixa\n",
    "data.head()"
   ]
  },
  {
   "cell_type": "code",
   "execution_count": 80,
   "metadata": {},
   "outputs": [
    {
     "name": "stdout",
     "output_type": "stream",
     "text": [
      "Tabela com o valor total gasto por genero \n",
      " \n",
      " Faixa Etaria\n",
      "Menor de Idade     432.59\n",
      "Jovem             1483.34\n",
      "Adulto             361.76\n",
      "idoso                8.64\n",
      "Melhor Idade         0.00\n",
      "Name: Valor, dtype: float64\n"
     ]
    }
   ],
   "source": [
    "valores = data.groupby('Faixa Etaria')['Valor'].sum()\n",
    "print('Tabela com o valor total gasto por Faixa Etaria \\n \\n', valores)"
   ]
  },
  {
   "cell_type": "markdown",
   "metadata": {},
   "source": [
    "## Consumidores Mais Populares (Top 5)"
   ]
  },
  {
   "cell_type": "code",
   "execution_count": 97,
   "metadata": {
    "scrolled": true
   },
   "outputs": [
    {
     "name": "stdout",
     "output_type": "stream",
     "text": [
      "Tabela com os Top 5 maiores consumidores \n",
      " \n",
      " Login\n",
      "Undirrala66    5\n",
      "Mindimnya67    4\n",
      "Qarwen67       4\n",
      "Saedue76       4\n",
      "Sondastan54    4\n",
      "Name: Login, dtype: int64\n"
     ]
    }
   ],
   "source": [
    "valores = data.groupby('Login')['Login'].count().sort_values(ascending=False)\n",
    "print('Tabela com os Top 5 maiores consumidores \\n \\n', valores.head(5))"
   ]
  },
  {
   "cell_type": "markdown",
   "metadata": {},
   "source": [
    "## Itens Mais Populares"
   ]
  },
  {
   "cell_type": "code",
   "execution_count": 109,
   "metadata": {},
   "outputs": [
    {
     "name": "stdout",
     "output_type": "stream",
     "text": [
      "Tabela com itens mais populares \n",
      " \n",
      " Nome do Item\n",
      "Final Critic                            14\n",
      "Arcane Gem                              11\n",
      "Betrayal, Whisper of Grieving Widows    11\n",
      "Stormcaller                             10\n",
      "Woeful Adamantite Claymore               9\n",
      "Serenity                                 9\n",
      "Trickster                                9\n",
      "Retribution Axe                          9\n",
      "Splitter, Foe Of Subtlety                8\n",
      "Darkheart                                8\n",
      "Name: Nome do Item, dtype: int64\n"
     ]
    }
   ],
   "source": [
    "valores = data.groupby('Nome do Item')['Nome do Item'].count().sort_values(ascending=False)\n",
    "print('Tabela com itens mais populares \\n \\n', valores.head(10))"
   ]
  },
  {
   "cell_type": "markdown",
   "metadata": {},
   "source": [
    "## Itens Mais Lucrativos"
   ]
  },
  {
   "cell_type": "code",
   "execution_count": 151,
   "metadata": {
    "scrolled": true
   },
   "outputs": [
    {
     "data": {
      "text/html": [
       "<div>\n",
       "<style scoped>\n",
       "    .dataframe tbody tr th:only-of-type {\n",
       "        vertical-align: middle;\n",
       "    }\n",
       "\n",
       "    .dataframe tbody tr th {\n",
       "        vertical-align: top;\n",
       "    }\n",
       "\n",
       "    .dataframe thead th {\n",
       "        text-align: right;\n",
       "    }\n",
       "</style>\n",
       "<table border=\"1\" class=\"dataframe\">\n",
       "  <thead>\n",
       "    <tr style=\"text-align: right;\">\n",
       "      <th></th>\n",
       "      <th>Valor Total</th>\n",
       "      <th>Valor Medio</th>\n",
       "      <th>Quantidade</th>\n",
       "    </tr>\n",
       "    <tr>\n",
       "      <th>Nome do Item</th>\n",
       "      <th></th>\n",
       "      <th></th>\n",
       "      <th></th>\n",
       "    </tr>\n",
       "  </thead>\n",
       "  <tbody>\n",
       "    <tr>\n",
       "      <th>Arcane Gem</th>\n",
       "      <td>$24.53</td>\n",
       "      <td>$2.23</td>\n",
       "      <td>11</td>\n",
       "    </tr>\n",
       "    <tr>\n",
       "      <th>Alpha</th>\n",
       "      <td>$10.92</td>\n",
       "      <td>$1.56</td>\n",
       "      <td>7</td>\n",
       "    </tr>\n",
       "    <tr>\n",
       "      <th>Alpha, Oath of Zeal</th>\n",
       "      <td>$20.16</td>\n",
       "      <td>$2.88</td>\n",
       "      <td>7</td>\n",
       "    </tr>\n",
       "    <tr>\n",
       "      <th>Alpha, Reach of Ending Hope</th>\n",
       "      <td>$9.30</td>\n",
       "      <td>$1.55</td>\n",
       "      <td>6</td>\n",
       "    </tr>\n",
       "    <tr>\n",
       "      <th>Amnesia</th>\n",
       "      <td>$21.42</td>\n",
       "      <td>$3.57</td>\n",
       "      <td>6</td>\n",
       "    </tr>\n",
       "    <tr>\n",
       "      <th>Avenger</th>\n",
       "      <td>$24.96</td>\n",
       "      <td>$4.16</td>\n",
       "      <td>6</td>\n",
       "    </tr>\n",
       "    <tr>\n",
       "      <th>Agatha</th>\n",
       "      <td>$9.55</td>\n",
       "      <td>$1.91</td>\n",
       "      <td>5</td>\n",
       "    </tr>\n",
       "    <tr>\n",
       "      <th>Aetherius, Boon of the Blessed</th>\n",
       "      <td>$19.00</td>\n",
       "      <td>$4.75</td>\n",
       "      <td>4</td>\n",
       "    </tr>\n",
       "    <tr>\n",
       "      <th>Apocalyptic Battlescythe</th>\n",
       "      <td>$15.64</td>\n",
       "      <td>$3.91</td>\n",
       "      <td>4</td>\n",
       "    </tr>\n",
       "    <tr>\n",
       "      <th>Abyssal Shard</th>\n",
       "      <td>$6.12</td>\n",
       "      <td>$2.04</td>\n",
       "      <td>3</td>\n",
       "    </tr>\n",
       "  </tbody>\n",
       "</table>\n",
       "</div>"
      ],
      "text/plain": [
       "                               Valor Total Valor Medio  Quantidade\n",
       "Nome do Item                                                      \n",
       "Arcane Gem                          $24.53       $2.23          11\n",
       "Alpha                               $10.92       $1.56           7\n",
       "Alpha, Oath of Zeal                 $20.16       $2.88           7\n",
       "Alpha, Reach of Ending Hope          $9.30       $1.55           6\n",
       "Amnesia                             $21.42       $3.57           6\n",
       "Avenger                             $24.96       $4.16           6\n",
       "Agatha                               $9.55       $1.91           5\n",
       "Aetherius, Boon of the Blessed      $19.00       $4.75           4\n",
       "Apocalyptic Battlescythe            $15.64       $3.91           4\n",
       "Abyssal Shard                        $6.12       $2.04           3"
      ]
     },
     "execution_count": 151,
     "metadata": {},
     "output_type": "execute_result"
    }
   ],
   "source": [
    "total_valor = data.groupby(\"Nome do Item\").sum()[\"Valor\"].rename(\"Valor Total\")\n",
    "media_valor = data.groupby(\"Nome do Item\").mean()[\"Valor\"].rename(\"Valor Total\")\n",
    "quant_venda = data.groupby(\"Nome do Item\").count()[\"Valor\"].rename(\"Valor Total\")\n",
    "\n",
    "# Dataframe para os resultados\n",
    "itens = pd.DataFrame({\"Valor Total\": total_valor,\n",
    "                      \"Valor Medio\": media_valor,\n",
    "                      \"Quantidade\": quant_venda})\n",
    "\n",
    "itens[\"Valor Total\"] = itens[\"Valor Total\"].map(\"${:,.2f}\".format)\n",
    "itens[\"Valor Medio\"] = itens[\"Valor Medio\"].map(\"${:,.2f}\".format)\n",
    "\n",
    "itens.head(10).sort_values(by='Quantidade',ascending=False)"
   ]
  },
  {
   "cell_type": "markdown",
   "metadata": {
    "collapsed": true
   },
   "source": [
    "## Fim"
   ]
  },
  {
   "cell_type": "markdown",
   "metadata": {
    "collapsed": true
   },
   "source": [
    "### Obrigado\n",
    "\n",
    "### Visite o Blog da Data Science Academy - <a href=\"http://blog.dsacademy.com.br\">Blog DSA</a>"
   ]
  }
 ],
 "metadata": {
  "kernelspec": {
   "display_name": "Python 3 (ipykernel)",
   "language": "python",
   "name": "python3"
  },
  "language_info": {
   "codemirror_mode": {
    "name": "ipython",
    "version": 3
   },
   "file_extension": ".py",
   "mimetype": "text/x-python",
   "name": "python",
   "nbconvert_exporter": "python",
   "pygments_lexer": "ipython3",
   "version": "3.9.12"
  }
 },
 "nbformat": 4,
 "nbformat_minor": 2
}
