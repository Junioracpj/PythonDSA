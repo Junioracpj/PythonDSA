{
 "cells": [
  {
   "cell_type": "markdown",
   "id": "4c11edca",
   "metadata": {},
   "source": [
    "Mini Projeto 01 - Curso DSA Academy"
   ]
  },
  {
   "cell_type": "markdown",
   "id": "a8174617",
   "metadata": {},
   "source": [
    "Mini projeto qe tem por objetivo responder as seguintes perguntas utilizando Python, SQl e Banco de Dados Sqlite.Os dados reais sobres Filmes IMDB\n",
    "\n",
    "Perguntas:\n",
    "1- Quais São as Categorias de Filmes Mais Comuns no IMDB?\n",
    "2- Qual o Número de Títulos Por Gênero?\n",
    "3- Qual a Mediana de Avaliação dos Filmes Por Gênero?\n",
    "4- Qual a Mediana de Avaliação dos Filmes Em Relação ao Ano de Estréia?\n",
    "5- Qual o Número de Filmes Avaliados Por Gênero Em Relação ao Ano de Estréia?\n",
    "6- Qual o Filme Com Maior Tempo de Duração? Calcule os Percentis.\n",
    "7- Qual a Relação Entre Duração e Gênero?\n",
    "8- Qual o Número de Filmes Produzidos Por País?\n",
    "9- Quais São os Top 10 Melhores Filmes?\n",
    "10- Quais São os Top 10 Piores Filmes?"
   ]
  },
  {
   "cell_type": "code",
   "execution_count": 2,
   "id": "891e767e",
   "metadata": {},
   "outputs": [],
   "source": [
    "# Instala o pacote a ser usado no projeto\n",
    "! pip install -q imdb-sqlite"
   ]
  },
  {
   "cell_type": "code",
   "execution_count": 3,
   "id": "af0ee549",
   "metadata": {},
   "outputs": [],
   "source": [
    "# Instala o pacote pycountry (informacao de paises)\n",
    "!pip install -q pycountry"
   ]
  },
  {
   "cell_type": "code",
   "execution_count": 6,
   "id": "d2f693cb",
   "metadata": {},
   "outputs": [],
   "source": [
    "# imports\n",
    "import re\n",
    "import time\n",
    "import sqlite3\n",
    "import pycountry\n",
    "import numpy as np\n",
    "import pandas as pd\n",
    "import matplotlib.pyplot as plt\n",
    "import seaborn as sns\n",
    "from matplotlib import cm\n",
    "from sklearn.feature_extraction.text import CountVectorizer\n",
    "import warnings\n",
    "warnings.filterwarnings(\"ignore\")\n",
    "sns.set_theme(style = \"whitegrid\") # tema dos graficos"
   ]
  },
  {
   "cell_type": "code",
   "execution_count": null,
   "id": "af6bb8f8",
   "metadata": {},
   "outputs": [],
   "source": []
  }
 ],
 "metadata": {
  "kernelspec": {
   "display_name": "Python 3 (ipykernel)",
   "language": "python",
   "name": "python3"
  },
  "language_info": {
   "codemirror_mode": {
    "name": "ipython",
    "version": 3
   },
   "file_extension": ".py",
   "mimetype": "text/x-python",
   "name": "python",
   "nbconvert_exporter": "python",
   "pygments_lexer": "ipython3",
   "version": "3.9.12"
  }
 },
 "nbformat": 4,
 "nbformat_minor": 5
}
